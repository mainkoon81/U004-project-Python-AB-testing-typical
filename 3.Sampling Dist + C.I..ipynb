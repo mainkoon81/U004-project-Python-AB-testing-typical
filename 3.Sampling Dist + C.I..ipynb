{
 "cells": [
  {
   "cell_type": "markdown",
   "metadata": {
    "deletable": true,
    "editable": true
   },
   "source": [
    "# 1. Sampling Distribution & C.I. (parameter estimation)"
   ]
  },
  {
   "cell_type": "markdown",
   "metadata": {
    "deletable": true,
    "editable": true
   },
   "source": [
    "## What is the sampling distribution? It's the distribution of any 'statistics'."
   ]
  },
  {
   "cell_type": "code",
   "execution_count": 1,
   "metadata": {
    "collapsed": false,
    "deletable": true,
    "editable": true
   },
   "outputs": [],
   "source": [
    "import pandas as pd\n",
    "import numpy as np\n",
    "import matplotlib.pyplot as plt\n",
    "%matplotlib inline\n",
    "np.random.seed(1)\n",
    " \n",
    "coffee_full = pd.read_csv('C:/Users/Minkun/Desktop/classes_1/NanoDeg/1.Data_AN/L4/data/coffee_dataset.csv')\n",
    "\n",
    "# this is the only data you might actually get in the real world.\n",
    "coffee_red = coffee_full.sample(200)"
   ]
  },
  {
   "cell_type": "markdown",
   "metadata": {
    "deletable": true,
    "editable": true
   },
   "source": [
    "# We just use a bootstrapping to build a confidence interval !"
   ]
  },
  {
   "cell_type": "code",
   "execution_count": null,
   "metadata": {
    "collapsed": false,
    "deletable": true,
    "editable": true,
    "scrolled": true
   },
   "outputs": [],
   "source": [
    "coffee_full.head() # this is unapproachable population !"
   ]
  },
  {
   "cell_type": "code",
   "execution_count": null,
   "metadata": {
    "collapsed": false,
    "deletable": true,
    "editable": true
   },
   "outputs": [],
   "source": [
    "coffee_full.shape"
   ]
  },
  {
   "cell_type": "code",
   "execution_count": null,
   "metadata": {
    "collapsed": false,
    "deletable": true,
    "editable": true
   },
   "outputs": [],
   "source": [
    "coffee_red.head() # this is a bootstrapping samples ! "
   ]
  },
  {
   "cell_type": "code",
   "execution_count": null,
   "metadata": {
    "collapsed": false,
    "deletable": true,
    "editable": true
   },
   "outputs": [],
   "source": [
    "coffee_red.shape"
   ]
  },
  {
   "cell_type": "code",
   "execution_count": null,
   "metadata": {
    "collapsed": false,
    "deletable": true,
    "editable": true
   },
   "outputs": [],
   "source": [
    "# 1. What is the proportion of coffee drinkers in the sample? What is the proportion of individuals that don't drink coffee?\n",
    "coffee_red.drinks_coffee.mean() "
   ]
  },
  {
   "cell_type": "markdown",
   "metadata": {
    "deletable": true,
    "editable": true
   },
   "source": [
    "### How to build a C.l. using the sampling distribution of the statistic that best estimates parameter of interest ? "
   ]
  },
  {
   "cell_type": "markdown",
   "metadata": {
    "deletable": true,
    "editable": true
   },
   "source": [
    "#### In this case, we used a sample mean height to estimate the population mean height."
   ]
  },
  {
   "cell_type": "code",
   "execution_count": null,
   "metadata": {
    "collapsed": false,
    "deletable": true,
    "editable": true
   },
   "outputs": [],
   "source": [
    "# 2. Of the individuals who drink coffee, what is the average height? \n",
    "# Of the individuals who do not drink coffee, what is the average height? \n",
    "coffee_red[coffee_red['drinks_coffee'] == True]['height'].mean() #68.324\n",
    "coffee_red[coffee_red['drinks_coffee'] == False]['height'].mean() #65.864"
   ]
  },
  {
   "cell_type": "code",
   "execution_count": null,
   "metadata": {
    "collapsed": false,
    "deletable": true,
    "editable": true
   },
   "outputs": [],
   "source": [
    "# 3. Simulate 200 \"new\" individuals from your original sample of 200. \n",
    "bootsamp = coffee_red.sample(200, replace=True)\n",
    "\n",
    "# What are the proportion of coffee drinkers in your bootstrap sample? \n",
    "bootsamp['drinks_coffee'].mean()\n",
    "# What are the mean height of coffee drinkers in your bootstrap sample? \n",
    "bootsamp[bootsamp['drinks_coffee'] == True]['height'].mean()\n",
    "# No!!! bootsamp['drinks_coffee']['height'].mean()"
   ]
  },
  {
   "cell_type": "code",
   "execution_count": 2,
   "metadata": {
    "collapsed": false,
    "deletable": true,
    "editable": true
   },
   "outputs": [
    {
     "data": {
      "image/png": "[encoded data removed]",
      "text/plain": [
       "<matplotlib.figure.Figure at 0x2573e006fd0>"
      ]
     },
     "metadata": {},
     "output_type": "display_data"
    }
   ],
   "source": [
    "# 4. Now simulate your bootstrap sample 10,000 times and take the mean height of the coffee drinkers in each sample. \n",
    "# Each bootstrap sample should be from the very first sample of 200 data points. Plot the distribution, and pull the values \n",
    "#necessary for a \"95% confidence interval\". What do you notice about the sampling distribution of the mean in this example?\n",
    "\n",
    "boot_means = []\n",
    "\n",
    "for i in range(10000):\n",
    "    bootsamp = coffee_red.sample(200, replace = True)\n",
    "    boot_mean = bootsamp[bootsamp['drinks_coffee'] == True]['height'].mean()\n",
    "    boot_means.append(boot_mean)\n",
    "    \n",
    "plt.hist(boot_means); # Looks pretty normal"
   ]
  },
  {
   "cell_type": "markdown",
   "metadata": {
    "collapsed": true,
    "deletable": true,
    "editable": true
   },
   "source": [
    "### We are 95% confident, the population mean falls between the bounds. "
   ]
  },
  {
   "cell_type": "code",
   "execution_count": null,
   "metadata": {
    "collapsed": false,
    "deletable": true,
    "editable": true
   },
   "outputs": [],
   "source": [
    "np.percentile(boot_means, 2.5), np.percentile(boot_means, 97.5)"
   ]
  },
  {
   "cell_type": "markdown",
   "metadata": {
    "deletable": true,
    "editable": true
   },
   "source": [
    "#### And this one is the real parameter value from the population!"
   ]
  },
  {
   "cell_type": "code",
   "execution_count": null,
   "metadata": {
    "collapsed": false,
    "deletable": true,
    "editable": true
   },
   "outputs": [],
   "source": [
    "coffee_full[coffee_full['drinks_coffee'] == True]['height'].mean()"
   ]
  },
  {
   "cell_type": "markdown",
   "metadata": {
    "deletable": true,
    "editable": true
   },
   "source": [
    "### Did your interval capture the actual average height of coffee drinkers in the population? Look at the average in the population and the two bounds provided by your 95% confidence interval. Notice that the percent and the parameter can both change depending on what you are building your confidence interval for, and what percentage you cutoff in each tail."
   ]
  },
  {
   "cell_type": "markdown",
   "metadata": {
    "deletable": true,
    "editable": true
   },
   "source": [
    "#\n",
    "\n",
    "\n",
    "# 2. Sampling Distribution & C.I. (Difference in parameters: Comparison)"
   ]
  },
  {
   "cell_type": "markdown",
   "metadata": {
    "deletable": true,
    "editable": true
   },
   "source": [
    "### What is the difference in the mean height for coffee VS. non-coffee-drinkers ?"
   ]
  },
  {
   "cell_type": "markdown",
   "metadata": {
    "deletable": true,
    "editable": true
   },
   "source": [
    "### 1. For 10,000 iterations, bootstrap sample your sample data, compute the difference in the average heights for coffee and non-coffee drinkers. Build a 99% confidence interval using your sampling distribution. "
   ]
  },
  {
   "cell_type": "code",
   "execution_count": null,
   "metadata": {
    "collapsed": false,
    "deletable": true,
    "editable": true
   },
   "outputs": [],
   "source": [
    "diffs = []\n",
    "\n",
    "for i in range(10000):\n",
    "    bootsamp = coffee_red.sample(200, replace = True)\n",
    "    coff_mean = bootsamp[bootsamp['drinks_coffee'] == True]['height'].mean()\n",
    "    nocoff_mean = bootsamp[bootsamp['drinks_coffee'] == False]['height'].mean()\n",
    "    diffs.append(coff_mean - nocoff_mean)\n",
    "    \n",
    "np.percentile(diffs, 0.5), np.percentile(diffs, 99.5)  # statistical evidence coffee drinkers are on average taller"
   ]
  },
  {
   "cell_type": "markdown",
   "metadata": {
    "deletable": true,
    "editable": true
   },
   "source": [
    "### 2. For 10,000 iterations bootstrap your sample data, compute the difference in the average height for coffee drinkers and the average height non-coffee drinkers for individuals under 21 years old. Build a 95% confidence interval. "
   ]
  },
  {
   "cell_type": "code",
   "execution_count": null,
   "metadata": {
    "collapsed": false,
    "deletable": true,
    "editable": true
   },
   "outputs": [],
   "source": [
    "diffs_coff_under21 = []\n",
    "\n",
    "for _ in range(10000):\n",
    "    bootsamp = coffee_red.sample(200, replace = True)\n",
    "    under21_coff_mean = bootsamp.query(\"age == '<21' and drinks_coffee == True\")['height'].mean()\n",
    "    under21_nocoff_mean = bootsamp.query(\"age == '<21' and drinks_coffee == False\")['height'].mean()\n",
    "    diffs_coff_under21.append(under21_coff_mean - under21_nocoff_mean)\n",
    "    \n",
    "np.percentile(diffs_coff_under21, 2.5), np.percentile(diffs_coff_under21, 97.5)\n",
    "# For the under21 group, we have evidence that the non-coffee drinkers are on average taller"
   ]
  },
  {
   "cell_type": "markdown",
   "metadata": {
    "deletable": true,
    "editable": true
   },
   "source": [
    "## Within the under 21 and over 21 groups, we saw that on average non-coffee drinkers were taller. But, when combined, we saw that on average coffee drinkers were on average taller. This is again Simpson's paradox. "
   ]
  },
  {
   "cell_type": "markdown",
   "metadata": {
    "deletable": true,
    "editable": true
   },
   "source": [
    "## we can be 95% confident that the difference in the average heights for coffee drinkers as compared to non-coffee drinkers was in the provided interval of [ ] to [ ] inches."
   ]
  },
  {
   "cell_type": "markdown",
   "metadata": {
    "deletable": true,
    "editable": true
   },
   "source": [
    "### So Why Bootstrapping? "
   ]
  },
  {
   "cell_type": "markdown",
   "metadata": {
    "deletable": true,
    "editable": true
   },
   "source": [
    "#### when we don't have enough sample size, we useally go with the traditional method...using t-test. but it turns out that bootstrapping also gives identical result as the traditional method!  "
   ]
  },
  {
   "cell_type": "code",
   "execution_count": 3,
   "metadata": {
    "collapsed": false,
    "deletable": true,
    "editable": true
   },
   "outputs": [
    {
     "data": {
      "text/plain": [
       "(1.5218492547539006, 3.0932002249570325)"
      ]
     },
     "execution_count": 3,
     "metadata": {},
     "output_type": "execute_result"
    }
   ],
   "source": [
    "# traditional method of mean comparison\n",
    "\n",
    "import statsmodels.stats.api as sm\n",
    "\n",
    "X1 = coffee_red[coffee_red['drinks_coffee'] == True]['height'] \n",
    "X2 = coffee_red[coffee_red['drinks_coffee'] == False]['height']\n",
    "\n",
    "cm = sm.CompareMeans(sm.DescrStatsW(X1), sm.DescrStatsW(X2))\n",
    "cm.tconfint_diff(usevar='unequal')"
   ]
  }
 ],
 "metadata": {
  "kernelspec": {
   "display_name": "Python 3",
   "language": "python",
   "name": "python3"
  },
  "language_info": {
   "codemirror_mode": {
    "name": "ipython",
    "version": 3
   },
   "file_extension": ".py",
   "mimetype": "text/x-python",
   "name": "python",
   "nbconvert_exporter": "python",
   "pygments_lexer": "ipython3",
   "version": "3.5.2"
  }
 },
 "nbformat": 4,
 "nbformat_minor": 2
}
